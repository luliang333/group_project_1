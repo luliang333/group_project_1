{
 "cells": [
  {
   "cell_type": "code",
   "execution_count": 1,
   "id": "54ed6750",
   "metadata": {},
   "outputs": [],
   "source": [
    "# Dependencies\n",
    "import matplotlib.pyplot as plt\n",
    "import pandas as pd\n",
    "import numpy as np\n",
    "import requests\n",
    "import json\n",
    "import pprint\n",
    "import os\n",
    "from scipy.stats import linregress\n",
    "from pprint import pprint\n",
    "\n",
    "# Import API key\n",
    "from api_keys import weather_api_key"
   ]
  },
  {
   "cell_type": "code",
   "execution_count": 2,
   "id": "8ade4b9f",
   "metadata": {},
   "outputs": [
    {
     "data": {
      "text/html": [
       "<div>\n",
       "<style scoped>\n",
       "    .dataframe tbody tr th:only-of-type {\n",
       "        vertical-align: middle;\n",
       "    }\n",
       "\n",
       "    .dataframe tbody tr th {\n",
       "        vertical-align: top;\n",
       "    }\n",
       "\n",
       "    .dataframe thead th {\n",
       "        text-align: right;\n",
       "    }\n",
       "</style>\n",
       "<table border=\"1\" class=\"dataframe\">\n",
       "  <thead>\n",
       "    <tr style=\"text-align: right;\">\n",
       "      <th></th>\n",
       "      <th>States</th>\n",
       "      <th>Cancer Type</th>\n",
       "      <th>Age</th>\n",
       "      <th>Sex</th>\n",
       "      <th>Race</th>\n",
       "      <th>Type</th>\n",
       "      <th>Age-Adjusted Rate</th>\n",
       "      <th>Case Count</th>\n",
       "      <th>Population</th>\n",
       "    </tr>\n",
       "  </thead>\n",
       "  <tbody>\n",
       "    <tr>\n",
       "      <th>0</th>\n",
       "      <td>Nevada</td>\n",
       "      <td>All Types of Cancer</td>\n",
       "      <td>NaN</td>\n",
       "      <td>Male and Female</td>\n",
       "      <td>All Races and Ethnicities</td>\n",
       "      <td>Incidence</td>\n",
       "      <td>Data Suppressed</td>\n",
       "      <td>Data Suppressed</td>\n",
       "      <td>Data Suppressed</td>\n",
       "    </tr>\n",
       "    <tr>\n",
       "      <th>1</th>\n",
       "      <td>New Mexico</td>\n",
       "      <td>All Types of Cancer</td>\n",
       "      <td>NaN</td>\n",
       "      <td>Male and Female</td>\n",
       "      <td>All Races and Ethnicities</td>\n",
       "      <td>Incidence</td>\n",
       "      <td>350.4</td>\n",
       "      <td>9202</td>\n",
       "      <td>2092741</td>\n",
       "    </tr>\n",
       "    <tr>\n",
       "      <th>2</th>\n",
       "      <td>Arizona</td>\n",
       "      <td>All Types of Cancer</td>\n",
       "      <td>NaN</td>\n",
       "      <td>Male and Female</td>\n",
       "      <td>All Races and Ethnicities</td>\n",
       "      <td>Incidence</td>\n",
       "      <td>368.1</td>\n",
       "      <td>32863</td>\n",
       "      <td>7158024</td>\n",
       "    </tr>\n",
       "    <tr>\n",
       "      <th>3</th>\n",
       "      <td>Colorado</td>\n",
       "      <td>All Types of Cancer</td>\n",
       "      <td>NaN</td>\n",
       "      <td>Male and Female</td>\n",
       "      <td>All Races and Ethnicities</td>\n",
       "      <td>Incidence</td>\n",
       "      <td>387.2</td>\n",
       "      <td>24550</td>\n",
       "      <td>5691287</td>\n",
       "    </tr>\n",
       "    <tr>\n",
       "      <th>4</th>\n",
       "      <td>California</td>\n",
       "      <td>All Types of Cancer</td>\n",
       "      <td>NaN</td>\n",
       "      <td>Male and Female</td>\n",
       "      <td>All Races and Ethnicities</td>\n",
       "      <td>Incidence</td>\n",
       "      <td>388.4</td>\n",
       "      <td>171748</td>\n",
       "      <td>39461588</td>\n",
       "    </tr>\n",
       "  </tbody>\n",
       "</table>\n",
       "</div>"
      ],
      "text/plain": [
       "       States          Cancer Type  Age              Sex  \\\n",
       "0      Nevada  All Types of Cancer  NaN  Male and Female   \n",
       "1  New Mexico  All Types of Cancer  NaN  Male and Female   \n",
       "2     Arizona  All Types of Cancer  NaN  Male and Female   \n",
       "3    Colorado  All Types of Cancer  NaN  Male and Female   \n",
       "4  California  All Types of Cancer  NaN  Male and Female   \n",
       "\n",
       "                        Race       Type Age-Adjusted Rate       Case Count  \\\n",
       "0  All Races and Ethnicities  Incidence   Data Suppressed  Data Suppressed   \n",
       "1  All Races and Ethnicities  Incidence             350.4             9202   \n",
       "2  All Races and Ethnicities  Incidence             368.1            32863   \n",
       "3  All Races and Ethnicities  Incidence             387.2            24550   \n",
       "4  All Races and Ethnicities  Incidence             388.4           171748   \n",
       "\n",
       "        Population  \n",
       "0  Data Suppressed  \n",
       "1          2092741  \n",
       "2          7158024  \n",
       "3          5691287  \n",
       "4         39461588  "
      ]
     },
     "execution_count": 2,
     "metadata": {},
     "output_type": "execute_result"
    }
   ],
   "source": [
    "filepath = os.path.join('Resources','each_state_new_cancer_rate.csv')\n",
    "df = pd.read_csv(filepath)\n",
    "df = df.rename(columns = {'Unnamed: 0':'States'})\n",
    "df.head()"
   ]
  },
  {
   "cell_type": "code",
   "execution_count": null,
   "id": "45eccd76",
   "metadata": {},
   "outputs": [],
   "source": [
    "url = f'http://api.openweathermap.org/data/2.5/weather?appid={weather_api_key}&q='\n",
    "\n",
    "states = df['States']\n",
    "lat = []\n",
    "lng = []\n",
    "state_name = []\n",
    "\n",
    "for state in states:\n",
    "    query_url = url + state\n",
    "    response = requests.get(query_url).json()\n",
    "    state_name.append(response['name'])\n",
    "    lat.append(response['coord']['lat'])\n",
    "    lng.append(response['coord']['lon'])\n",
    "new_df = pd.DataFrame({'Lat':lat,'Lon':lng,'States':state_name})\n",
    "new_df.head()"
   ]
  },
  {
   "cell_type": "code",
   "execution_count": null,
   "id": "6a86ec37",
   "metadata": {},
   "outputs": [],
   "source": [
    "new_df = new_df.replace('State of Wyoming','Wyoming') \n",
    "new_df = new_df.replace('State of Maine','Maine')\n",
    "new_df.head()"
   ]
  },
  {
   "cell_type": "code",
   "execution_count": null,
   "id": "6eef6236",
   "metadata": {},
   "outputs": [],
   "source": [
    "combined_df = pd.merge(df, new_df, on = 'States', how = 'outer')\n",
    "combined_df = combined_df [['States','Age-Adjusted Rate','Case Count','Population','Lat','Lon']]\n",
    "combined_df = combined_df.iloc[1:]\n",
    "combined_df ['Age-Adjusted Rate'] = combined_df ['Age-Adjusted Rate'].astype(float)\n",
    "combined_df ['Lat'] = combined_df ['Lat'].astype(float)\n",
    "combined_df ['Lon'] = combined_df ['Lon'].astype(float)\n",
    "combined_df = combined_df.rename(columns={'Age-Adjusted Rate':'Rate','Case Count':'Cases'})\n",
    "combined_df.head()"
   ]
  },
  {
   "cell_type": "code",
   "execution_count": null,
   "id": "2951749d",
   "metadata": {},
   "outputs": [],
   "source": [
    "plt.scatter(combined_df['Lat'], combined_df['Rate'])"
   ]
  },
  {
   "cell_type": "code",
   "execution_count": null,
   "id": "86d256fe",
   "metadata": {},
   "outputs": [],
   "source": [
    "combined_df.boxplot('Rate', by='Lat', figsize=(10, 8))"
   ]
  },
  {
   "cell_type": "code",
   "execution_count": null,
   "id": "cf7e50d9",
   "metadata": {},
   "outputs": [],
   "source": [
    "bins = [0,20,30,40,50,60]\n",
    "names = ['0-19','20-29','30-39','40-49','50-59']\n",
    "combined_df['Latbin'] = pd.cut(combined_df['Rate'], bins, labels=names)\n",
    "combined_df(head)\n",
    "\n",
    "# combined_df.boxplot('Rate', by='Lat', figsize=(10, 8))"
   ]
  },
  {
   "cell_type": "code",
   "execution_count": null,
   "id": "ac4dce88",
   "metadata": {},
   "outputs": [],
   "source": [
    "combined_df.hist(column='Rate')"
   ]
  },
  {
   "cell_type": "code",
   "execution_count": null,
   "id": "07787b9c",
   "metadata": {},
   "outputs": [],
   "source": [
    "latitude2 = combined_df[combined_df['Lat'] == 38.3004]\n",
    "latitude2.Rate.mean()"
   ]
  },
  {
   "cell_type": "code",
   "execution_count": null,
   "id": "4bf64c5c",
   "metadata": {},
   "outputs": [],
   "source": [
    "stats.ttest_ind(latitude1.Rate, latitude2.Rate, equal_var=False)"
   ]
  },
  {
   "cell_type": "code",
   "execution_count": null,
   "id": "14181eb8",
   "metadata": {},
   "outputs": [],
   "source": []
  }
 ],
 "metadata": {
  "kernelspec": {
   "display_name": "Python 3 (ipykernel)",
   "language": "python",
   "name": "python3"
  },
  "language_info": {
   "codemirror_mode": {
    "name": "ipython",
    "version": 3
   },
   "file_extension": ".py",
   "mimetype": "text/x-python",
   "name": "python",
   "nbconvert_exporter": "python",
   "pygments_lexer": "ipython3",
   "version": "3.9.7"
  }
 },
 "nbformat": 4,
 "nbformat_minor": 5
}
