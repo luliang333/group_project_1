{
 "cells": [
  {
   "cell_type": "code",
   "execution_count": 1,
   "id": "08bbbc8c",
   "metadata": {},
   "outputs": [],
   "source": [
    "import numpy as np\n",
    "import pandas as pd\n",
    "import matplotlib.pyplot as plt\n",
    "from scipy.stats import linregress\n",
    "import requests\n",
    "from census import Census\n",
    "import os\n",
    "from api_keys import census_key"
   ]
  },
  {
   "cell_type": "code",
   "execution_count": 2,
   "id": "47673909",
   "metadata": {},
   "outputs": [
    {
     "data": {
      "text/html": [
       "<div>\n",
       "<style scoped>\n",
       "    .dataframe tbody tr th:only-of-type {\n",
       "        vertical-align: middle;\n",
       "    }\n",
       "\n",
       "    .dataframe tbody tr th {\n",
       "        vertical-align: top;\n",
       "    }\n",
       "\n",
       "    .dataframe thead th {\n",
       "        text-align: right;\n",
       "    }\n",
       "</style>\n",
       "<table border=\"1\" class=\"dataframe\">\n",
       "  <thead>\n",
       "    <tr style=\"text-align: right;\">\n",
       "      <th></th>\n",
       "      <th>States</th>\n",
       "      <th>Cancer Type</th>\n",
       "      <th>Age</th>\n",
       "      <th>Sex</th>\n",
       "      <th>Race</th>\n",
       "      <th>Type</th>\n",
       "      <th>Age-Adjusted Rate</th>\n",
       "      <th>Case Count</th>\n",
       "      <th>Population</th>\n",
       "    </tr>\n",
       "  </thead>\n",
       "  <tbody>\n",
       "    <tr>\n",
       "      <th>1</th>\n",
       "      <td>New Mexico</td>\n",
       "      <td>All Types of Cancer</td>\n",
       "      <td>NaN</td>\n",
       "      <td>Male and Female</td>\n",
       "      <td>All Races and Ethnicities</td>\n",
       "      <td>Incidence</td>\n",
       "      <td>350.4</td>\n",
       "      <td>9202</td>\n",
       "      <td>2092741</td>\n",
       "    </tr>\n",
       "    <tr>\n",
       "      <th>2</th>\n",
       "      <td>Arizona</td>\n",
       "      <td>All Types of Cancer</td>\n",
       "      <td>NaN</td>\n",
       "      <td>Male and Female</td>\n",
       "      <td>All Races and Ethnicities</td>\n",
       "      <td>Incidence</td>\n",
       "      <td>368.1</td>\n",
       "      <td>32863</td>\n",
       "      <td>7158024</td>\n",
       "    </tr>\n",
       "    <tr>\n",
       "      <th>3</th>\n",
       "      <td>Colorado</td>\n",
       "      <td>All Types of Cancer</td>\n",
       "      <td>NaN</td>\n",
       "      <td>Male and Female</td>\n",
       "      <td>All Races and Ethnicities</td>\n",
       "      <td>Incidence</td>\n",
       "      <td>387.2</td>\n",
       "      <td>24550</td>\n",
       "      <td>5691287</td>\n",
       "    </tr>\n",
       "    <tr>\n",
       "      <th>4</th>\n",
       "      <td>California</td>\n",
       "      <td>All Types of Cancer</td>\n",
       "      <td>NaN</td>\n",
       "      <td>Male and Female</td>\n",
       "      <td>All Races and Ethnicities</td>\n",
       "      <td>Incidence</td>\n",
       "      <td>388.4</td>\n",
       "      <td>171748</td>\n",
       "      <td>39461588</td>\n",
       "    </tr>\n",
       "    <tr>\n",
       "      <th>5</th>\n",
       "      <td>Wyoming</td>\n",
       "      <td>All Types of Cancer</td>\n",
       "      <td>NaN</td>\n",
       "      <td>Male and Female</td>\n",
       "      <td>All Races and Ethnicities</td>\n",
       "      <td>Incidence</td>\n",
       "      <td>394.1</td>\n",
       "      <td>2812</td>\n",
       "      <td>577601</td>\n",
       "    </tr>\n",
       "  </tbody>\n",
       "</table>\n",
       "</div>"
      ],
      "text/plain": [
       "       States          Cancer Type  Age              Sex  \\\n",
       "1  New Mexico  All Types of Cancer  NaN  Male and Female   \n",
       "2     Arizona  All Types of Cancer  NaN  Male and Female   \n",
       "3    Colorado  All Types of Cancer  NaN  Male and Female   \n",
       "4  California  All Types of Cancer  NaN  Male and Female   \n",
       "5     Wyoming  All Types of Cancer  NaN  Male and Female   \n",
       "\n",
       "                        Race       Type Age-Adjusted Rate Case Count  \\\n",
       "1  All Races and Ethnicities  Incidence             350.4       9202   \n",
       "2  All Races and Ethnicities  Incidence             368.1      32863   \n",
       "3  All Races and Ethnicities  Incidence             387.2      24550   \n",
       "4  All Races and Ethnicities  Incidence             388.4     171748   \n",
       "5  All Races and Ethnicities  Incidence             394.1       2812   \n",
       "\n",
       "  Population  \n",
       "1    2092741  \n",
       "2    7158024  \n",
       "3    5691287  \n",
       "4   39461588  \n",
       "5     577601  "
      ]
     },
     "execution_count": 2,
     "metadata": {},
     "output_type": "execute_result"
    }
   ],
   "source": [
    "filepath = os.path.join('Resources','each_state_new_cancer_rate.csv')\n",
    "df = pd.read_csv(filepath)\n",
    "df = df.rename(columns = {'Unnamed: 0':'States'})\n",
    "df = df.iloc[1:]\n",
    "df.head()"
   ]
  },
  {
   "cell_type": "code",
   "execution_count": 3,
   "id": "f20e0f10",
   "metadata": {},
   "outputs": [],
   "source": [
    "#from config import api_key\n",
    "c = Census(census_key, year=2018)"
   ]
  },
  {
   "cell_type": "code",
   "execution_count": 4,
   "id": "d0095101",
   "metadata": {},
   "outputs": [
    {
     "data": {
      "text/html": [
       "<div>\n",
       "<style scoped>\n",
       "    .dataframe tbody tr th:only-of-type {\n",
       "        vertical-align: middle;\n",
       "    }\n",
       "\n",
       "    .dataframe tbody tr th {\n",
       "        vertical-align: top;\n",
       "    }\n",
       "\n",
       "    .dataframe thead th {\n",
       "        text-align: right;\n",
       "    }\n",
       "</style>\n",
       "<table border=\"1\" class=\"dataframe\">\n",
       "  <thead>\n",
       "    <tr style=\"text-align: right;\">\n",
       "      <th></th>\n",
       "      <th>NAME</th>\n",
       "      <th>B17001_002E</th>\n",
       "      <th>state</th>\n",
       "    </tr>\n",
       "  </thead>\n",
       "  <tbody>\n",
       "    <tr>\n",
       "      <th>0</th>\n",
       "      <td>Mississippi</td>\n",
       "      <td>599795.0</td>\n",
       "      <td>28</td>\n",
       "    </tr>\n",
       "    <tr>\n",
       "      <th>1</th>\n",
       "      <td>Missouri</td>\n",
       "      <td>837930.0</td>\n",
       "      <td>29</td>\n",
       "    </tr>\n",
       "    <tr>\n",
       "      <th>2</th>\n",
       "      <td>Montana</td>\n",
       "      <td>139063.0</td>\n",
       "      <td>30</td>\n",
       "    </tr>\n",
       "    <tr>\n",
       "      <th>3</th>\n",
       "      <td>Nebraska</td>\n",
       "      <td>213790.0</td>\n",
       "      <td>31</td>\n",
       "    </tr>\n",
       "    <tr>\n",
       "      <th>4</th>\n",
       "      <td>Nevada</td>\n",
       "      <td>393431.0</td>\n",
       "      <td>32</td>\n",
       "    </tr>\n",
       "  </tbody>\n",
       "</table>\n",
       "</div>"
      ],
      "text/plain": [
       "          NAME  B17001_002E state\n",
       "0  Mississippi     599795.0    28\n",
       "1     Missouri     837930.0    29\n",
       "2      Montana     139063.0    30\n",
       "3     Nebraska     213790.0    31\n",
       "4       Nevada     393431.0    32"
      ]
     },
     "execution_count": 4,
     "metadata": {},
     "output_type": "execute_result"
    }
   ],
   "source": [
    "census_data = c.acs5.get((\"NAME\", \"B17001_002E\"), {'for': 'state:*'})\n",
    "census_pd = pd.DataFrame(census_data)\n",
    "census_pd.head()"
   ]
  },
  {
   "cell_type": "code",
   "execution_count": 5,
   "id": "57df9780",
   "metadata": {},
   "outputs": [
    {
     "data": {
      "text/html": [
       "<div>\n",
       "<style scoped>\n",
       "    .dataframe tbody tr th:only-of-type {\n",
       "        vertical-align: middle;\n",
       "    }\n",
       "\n",
       "    .dataframe tbody tr th {\n",
       "        vertical-align: top;\n",
       "    }\n",
       "\n",
       "    .dataframe thead th {\n",
       "        text-align: right;\n",
       "    }\n",
       "</style>\n",
       "<table border=\"1\" class=\"dataframe\">\n",
       "  <thead>\n",
       "    <tr style=\"text-align: right;\">\n",
       "      <th></th>\n",
       "      <th>States</th>\n",
       "      <th>Poverty Count</th>\n",
       "      <th>Age-Adjusted Rate</th>\n",
       "      <th>Case Count</th>\n",
       "      <th>Population</th>\n",
       "      <th>Poverty Rate</th>\n",
       "    </tr>\n",
       "  </thead>\n",
       "  <tbody>\n",
       "    <tr>\n",
       "      <th>0</th>\n",
       "      <td>Mississippi</td>\n",
       "      <td>599795</td>\n",
       "      <td>471.4</td>\n",
       "      <td>17037</td>\n",
       "      <td>2981020</td>\n",
       "      <td>20120.462124</td>\n",
       "    </tr>\n",
       "    <tr>\n",
       "      <th>1</th>\n",
       "      <td>Missouri</td>\n",
       "      <td>837930</td>\n",
       "      <td>430.3</td>\n",
       "      <td>33143</td>\n",
       "      <td>6121623</td>\n",
       "      <td>13688.036653</td>\n",
       "    </tr>\n",
       "    <tr>\n",
       "      <th>2</th>\n",
       "      <td>Montana</td>\n",
       "      <td>139063</td>\n",
       "      <td>451.7</td>\n",
       "      <td>6412</td>\n",
       "      <td>1060665</td>\n",
       "      <td>13110.925693</td>\n",
       "    </tr>\n",
       "    <tr>\n",
       "      <th>3</th>\n",
       "      <td>Nebraska</td>\n",
       "      <td>213790</td>\n",
       "      <td>477.7</td>\n",
       "      <td>10798</td>\n",
       "      <td>1925614</td>\n",
       "      <td>11102.432782</td>\n",
       "    </tr>\n",
       "    <tr>\n",
       "      <th>5</th>\n",
       "      <td>New Hampshire</td>\n",
       "      <td>102352</td>\n",
       "      <td>460.9</td>\n",
       "      <td>8511</td>\n",
       "      <td>1353465</td>\n",
       "      <td>7562.219932</td>\n",
       "    </tr>\n",
       "  </tbody>\n",
       "</table>\n",
       "</div>"
      ],
      "text/plain": [
       "          States  Poverty Count  Age-Adjusted Rate Case Count  Population  \\\n",
       "0    Mississippi         599795              471.4      17037     2981020   \n",
       "1       Missouri         837930              430.3      33143     6121623   \n",
       "2        Montana         139063              451.7       6412     1060665   \n",
       "3       Nebraska         213790              477.7      10798     1925614   \n",
       "5  New Hampshire         102352              460.9       8511     1353465   \n",
       "\n",
       "   Poverty Rate  \n",
       "0  20120.462124  \n",
       "1  13688.036653  \n",
       "2  13110.925693  \n",
       "3  11102.432782  \n",
       "5   7562.219932  "
      ]
     },
     "execution_count": 5,
     "metadata": {},
     "output_type": "execute_result"
    }
   ],
   "source": [
    "census_pd = census_pd.rename(columns={'NAME':'States', \"B17001_002E\": \"Poverty Count\"})\n",
    "census_pd = census_pd[['States','Poverty Count']]\n",
    "combined_df = pd.merge(census_pd,df, on = \"States\", how = 'outer')\n",
    "combined_df = combined_df[['States','Poverty Count','Age-Adjusted Rate','Case Count','Population']]\n",
    "combined_df = combined_df.drop([4,27])\n",
    "combined_df ['Poverty Count'] = combined_df ['Poverty Count'].astype(int)\n",
    "combined_df ['Population'] = combined_df ['Population'].astype(int)\n",
    "combined_df ['Age-Adjusted Rate'] = combined_df ['Age-Adjusted Rate'].astype(float)\n",
    "combined_df['Poverty Rate'] = combined_df['Poverty Count']/combined_df['Population']*100000\n",
    "combined_df.head()"
   ]
  },
  {
   "cell_type": "code",
   "execution_count": 6,
   "id": "d53c56f2",
   "metadata": {},
   "outputs": [
    {
     "data": {
      "image/png": "[encoded data removed]",
      "text/plain": [
       "<Figure size 432x288 with 1 Axes>"
      ]
     },
     "metadata": {
      "needs_background": "light"
     },
     "output_type": "display_data"
    }
   ],
   "source": [
    "plt.scatter(combined_df['Poverty Rate'], combined_df['Age-Adjusted Rate'])\n",
    "plt.show()\n",
    "plt.title()\n",
    "plt.ylabel('Poverty Per Capita')\n",
    "plt.xlabel('New Cancer Rate')"
   ]
  },
  {
   "cell_type": "code",
   "execution_count": 7,
   "id": "8c14fdbf",
   "metadata": {},
   "outputs": [
    {
     "name": "stdout",
     "output_type": "stream",
     "text": [
      "The r-squared is: 0.011659917324299262\n"
     ]
    },
    {
     "data": {
      "image/png": "[encoded data removed]",
      "text/plain": [
       "<Figure size 432x288 with 1 Axes>"
      ]
     },
     "metadata": {
      "needs_background": "light"
     },
     "output_type": "display_data"
    }
   ],
   "source": [
    "x_values = combined_df['Poverty Rate']\n",
    "y_values = combined_df['Age-Adjusted Rate']\n",
    "(slope, intercept, rvalue, pvalue, stderr) = linregress(x_values, y_values)\n",
    "regress_values = x_values * slope + intercept\n",
    "line_eq = \"y = \" + str(round(slope,2)) + \"x + \" + str(round(intercept,2))\n",
    "plt.scatter(x_values,y_values)\n",
    "plt.plot(x_values,regress_values,\"r-\")\n",
    "plt.annotate(line_eq,(8000,360),fontsize=15,color=\"red\")\n",
    "plt.xlabel('Poverty Rate')\n",
    "plt.ylabel('Cancer Rate')\n",
    "print(f\"The r-squared is: {rvalue**2}\")\n",
    "plt.show()"
   ]
  },
  {
   "cell_type": "code",
   "execution_count": null,
   "id": "97403247",
   "metadata": {},
   "outputs": [],
   "source": []
  }
 ],
 "metadata": {
  "kernelspec": {
   "display_name": "Python 3 (ipykernel)",
   "language": "python",
   "name": "python3"
  },
  "language_info": {
   "codemirror_mode": {
    "name": "ipython",
    "version": 3
   },
   "file_extension": ".py",
   "mimetype": "text/x-python",
   "name": "python",
   "nbconvert_exporter": "python",
   "pygments_lexer": "ipython3",
   "version": "3.9.7"
  }
 },
 "nbformat": 4,
 "nbformat_minor": 5
}
