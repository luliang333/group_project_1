{
 "cells": [
  {
   "cell_type": "code",
   "execution_count": 1,
   "id": "cb36f551",
   "metadata": {},
   "outputs": [],
   "source": [
    "import requests\n",
    "import matplotlib.pyplot as plt\n",
    "import json\n",
    "import os\n",
    "import gmaps\n",
    "import pandas as pd\n",
    "from pprint import pprint\n",
    "import scipy.stats as stats"
   ]
  },
  {
   "cell_type": "code",
   "execution_count": 2,
   "id": "7fda7ed1",
   "metadata": {},
   "outputs": [
    {
     "data": {
      "text/html": [
       "<div>\n",
       "<style scoped>\n",
       "    .dataframe tbody tr th:only-of-type {\n",
       "        vertical-align: middle;\n",
       "    }\n",
       "\n",
       "    .dataframe tbody tr th {\n",
       "        vertical-align: top;\n",
       "    }\n",
       "\n",
       "    .dataframe thead th {\n",
       "        text-align: right;\n",
       "    }\n",
       "</style>\n",
       "<table border=\"1\" class=\"dataframe\">\n",
       "  <thead>\n",
       "    <tr style=\"text-align: right;\">\n",
       "      <th></th>\n",
       "      <th>States</th>\n",
       "      <th>Cancer Type</th>\n",
       "      <th>Age</th>\n",
       "      <th>Sex</th>\n",
       "      <th>Race</th>\n",
       "      <th>Type</th>\n",
       "      <th>Age-Adjusted Rate</th>\n",
       "      <th>Case Count</th>\n",
       "      <th>Population</th>\n",
       "    </tr>\n",
       "  </thead>\n",
       "  <tbody>\n",
       "    <tr>\n",
       "      <th>0</th>\n",
       "      <td>Nevada</td>\n",
       "      <td>All Types of Cancer</td>\n",
       "      <td>NaN</td>\n",
       "      <td>Male and Female</td>\n",
       "      <td>All Races and Ethnicities</td>\n",
       "      <td>Incidence</td>\n",
       "      <td>Data Suppressed</td>\n",
       "      <td>Data Suppressed</td>\n",
       "      <td>Data Suppressed</td>\n",
       "    </tr>\n",
       "    <tr>\n",
       "      <th>1</th>\n",
       "      <td>New Mexico</td>\n",
       "      <td>All Types of Cancer</td>\n",
       "      <td>NaN</td>\n",
       "      <td>Male and Female</td>\n",
       "      <td>All Races and Ethnicities</td>\n",
       "      <td>Incidence</td>\n",
       "      <td>350.4</td>\n",
       "      <td>9202</td>\n",
       "      <td>2092741</td>\n",
       "    </tr>\n",
       "    <tr>\n",
       "      <th>2</th>\n",
       "      <td>Arizona</td>\n",
       "      <td>All Types of Cancer</td>\n",
       "      <td>NaN</td>\n",
       "      <td>Male and Female</td>\n",
       "      <td>All Races and Ethnicities</td>\n",
       "      <td>Incidence</td>\n",
       "      <td>368.1</td>\n",
       "      <td>32863</td>\n",
       "      <td>7158024</td>\n",
       "    </tr>\n",
       "    <tr>\n",
       "      <th>3</th>\n",
       "      <td>Colorado</td>\n",
       "      <td>All Types of Cancer</td>\n",
       "      <td>NaN</td>\n",
       "      <td>Male and Female</td>\n",
       "      <td>All Races and Ethnicities</td>\n",
       "      <td>Incidence</td>\n",
       "      <td>387.2</td>\n",
       "      <td>24550</td>\n",
       "      <td>5691287</td>\n",
       "    </tr>\n",
       "    <tr>\n",
       "      <th>4</th>\n",
       "      <td>California</td>\n",
       "      <td>All Types of Cancer</td>\n",
       "      <td>NaN</td>\n",
       "      <td>Male and Female</td>\n",
       "      <td>All Races and Ethnicities</td>\n",
       "      <td>Incidence</td>\n",
       "      <td>388.4</td>\n",
       "      <td>171748</td>\n",
       "      <td>39461588</td>\n",
       "    </tr>\n",
       "  </tbody>\n",
       "</table>\n",
       "</div>"
      ],
      "text/plain": [
       "       States          Cancer Type  Age              Sex  \\\n",
       "0      Nevada  All Types of Cancer  NaN  Male and Female   \n",
       "1  New Mexico  All Types of Cancer  NaN  Male and Female   \n",
       "2     Arizona  All Types of Cancer  NaN  Male and Female   \n",
       "3    Colorado  All Types of Cancer  NaN  Male and Female   \n",
       "4  California  All Types of Cancer  NaN  Male and Female   \n",
       "\n",
       "                        Race       Type Age-Adjusted Rate       Case Count  \\\n",
       "0  All Races and Ethnicities  Incidence   Data Suppressed  Data Suppressed   \n",
       "1  All Races and Ethnicities  Incidence             350.4             9202   \n",
       "2  All Races and Ethnicities  Incidence             368.1            32863   \n",
       "3  All Races and Ethnicities  Incidence             387.2            24550   \n",
       "4  All Races and Ethnicities  Incidence             388.4           171748   \n",
       "\n",
       "        Population  \n",
       "0  Data Suppressed  \n",
       "1          2092741  \n",
       "2          7158024  \n",
       "3          5691287  \n",
       "4         39461588  "
      ]
     },
     "execution_count": 2,
     "metadata": {},
     "output_type": "execute_result"
    }
   ],
   "source": [
    "filepath = os.path.join('Resources','each_state_new_cancer_rate.csv')\n",
    "df = pd.read_csv(filepath)\n",
    "df = df.rename(columns = {'Unnamed: 0':'States'})\n",
    "df.head()"
   ]
  },
  {
   "cell_type": "code",
   "execution_count": 3,
   "id": "b776bbf6",
   "metadata": {
    "scrolled": true
   },
   "outputs": [
    {
     "data": {
      "text/html": [
       "<div>\n",
       "<style scoped>\n",
       "    .dataframe tbody tr th:only-of-type {\n",
       "        vertical-align: middle;\n",
       "    }\n",
       "\n",
       "    .dataframe tbody tr th {\n",
       "        vertical-align: top;\n",
       "    }\n",
       "\n",
       "    .dataframe thead th {\n",
       "        text-align: right;\n",
       "    }\n",
       "</style>\n",
       "<table border=\"1\" class=\"dataframe\">\n",
       "  <thead>\n",
       "    <tr style=\"text-align: right;\">\n",
       "      <th></th>\n",
       "      <th>Lat</th>\n",
       "      <th>Lon</th>\n",
       "      <th>States</th>\n",
       "    </tr>\n",
       "  </thead>\n",
       "  <tbody>\n",
       "    <tr>\n",
       "      <th>0</th>\n",
       "      <td>39.2502</td>\n",
       "      <td>-116.7512</td>\n",
       "      <td>Nevada</td>\n",
       "    </tr>\n",
       "    <tr>\n",
       "      <th>1</th>\n",
       "      <td>34.5003</td>\n",
       "      <td>-106.0008</td>\n",
       "      <td>New Mexico</td>\n",
       "    </tr>\n",
       "    <tr>\n",
       "      <th>2</th>\n",
       "      <td>34.5003</td>\n",
       "      <td>-111.5010</td>\n",
       "      <td>Arizona</td>\n",
       "    </tr>\n",
       "    <tr>\n",
       "      <th>3</th>\n",
       "      <td>-22.8375</td>\n",
       "      <td>-51.9731</td>\n",
       "      <td>Colorado</td>\n",
       "    </tr>\n",
       "    <tr>\n",
       "      <th>4</th>\n",
       "      <td>38.3004</td>\n",
       "      <td>-76.5074</td>\n",
       "      <td>California</td>\n",
       "    </tr>\n",
       "  </tbody>\n",
       "</table>\n",
       "</div>"
      ],
      "text/plain": [
       "       Lat       Lon      States\n",
       "0  39.2502 -116.7512      Nevada\n",
       "1  34.5003 -106.0008  New Mexico\n",
       "2  34.5003 -111.5010     Arizona\n",
       "3 -22.8375  -51.9731    Colorado\n",
       "4  38.3004  -76.5074  California"
      ]
     },
     "execution_count": 3,
     "metadata": {},
     "output_type": "execute_result"
    }
   ],
   "source": [
    "url = \"http://api.openweathermap.org/data/2.5/weather?\"\n",
    "states = df['States']\n",
    "lat = []\n",
    "lng = []\n",
    "state_name = []\n",
    "\n",
    "for state in states:\n",
    "    query_url = url + \"appid=\" + '55864e2ecbf689be467d68e5c9c806e6' + \"&q=\" + state\n",
    "    response = requests.get(query_url).json()\n",
    "    state_name.append(response['name'])\n",
    "    lat.append(response['coord']['lat'])\n",
    "    lng.append(response['coord']['lon'])\n",
    "new_df = pd.DataFrame({'Lat':lat,'Lon':lng,'States':state_name})\n",
    "new_df.head()"
   ]
  },
  {
   "cell_type": "code",
   "execution_count": 4,
   "id": "080066e3",
   "metadata": {},
   "outputs": [
    {
     "data": {
      "text/html": [
       "<div>\n",
       "<style scoped>\n",
       "    .dataframe tbody tr th:only-of-type {\n",
       "        vertical-align: middle;\n",
       "    }\n",
       "\n",
       "    .dataframe tbody tr th {\n",
       "        vertical-align: top;\n",
       "    }\n",
       "\n",
       "    .dataframe thead th {\n",
       "        text-align: right;\n",
       "    }\n",
       "</style>\n",
       "<table border=\"1\" class=\"dataframe\">\n",
       "  <thead>\n",
       "    <tr style=\"text-align: right;\">\n",
       "      <th></th>\n",
       "      <th>Lat</th>\n",
       "      <th>Lon</th>\n",
       "      <th>States</th>\n",
       "    </tr>\n",
       "  </thead>\n",
       "  <tbody>\n",
       "    <tr>\n",
       "      <th>0</th>\n",
       "      <td>39.2502</td>\n",
       "      <td>-116.7512</td>\n",
       "      <td>Nevada</td>\n",
       "    </tr>\n",
       "    <tr>\n",
       "      <th>1</th>\n",
       "      <td>34.5003</td>\n",
       "      <td>-106.0008</td>\n",
       "      <td>New Mexico</td>\n",
       "    </tr>\n",
       "    <tr>\n",
       "      <th>2</th>\n",
       "      <td>34.5003</td>\n",
       "      <td>-111.5010</td>\n",
       "      <td>Arizona</td>\n",
       "    </tr>\n",
       "    <tr>\n",
       "      <th>3</th>\n",
       "      <td>-22.8375</td>\n",
       "      <td>-51.9731</td>\n",
       "      <td>Colorado</td>\n",
       "    </tr>\n",
       "    <tr>\n",
       "      <th>4</th>\n",
       "      <td>38.3004</td>\n",
       "      <td>-76.5074</td>\n",
       "      <td>California</td>\n",
       "    </tr>\n",
       "  </tbody>\n",
       "</table>\n",
       "</div>"
      ],
      "text/plain": [
       "       Lat       Lon      States\n",
       "0  39.2502 -116.7512      Nevada\n",
       "1  34.5003 -106.0008  New Mexico\n",
       "2  34.5003 -111.5010     Arizona\n",
       "3 -22.8375  -51.9731    Colorado\n",
       "4  38.3004  -76.5074  California"
      ]
     },
     "execution_count": 4,
     "metadata": {},
     "output_type": "execute_result"
    }
   ],
   "source": [
    "new_df = new_df.replace('State of Wyoming','Wyoming') \n",
    "new_df = new_df.replace('State of Maine','Maine')\n",
    "new_df.head()"
   ]
  },
  {
   "cell_type": "code",
   "execution_count": 5,
   "id": "ea8959a0",
   "metadata": {},
   "outputs": [
    {
     "data": {
      "text/html": [
       "<div>\n",
       "<style scoped>\n",
       "    .dataframe tbody tr th:only-of-type {\n",
       "        vertical-align: middle;\n",
       "    }\n",
       "\n",
       "    .dataframe tbody tr th {\n",
       "        vertical-align: top;\n",
       "    }\n",
       "\n",
       "    .dataframe thead th {\n",
       "        text-align: right;\n",
       "    }\n",
       "</style>\n",
       "<table border=\"1\" class=\"dataframe\">\n",
       "  <thead>\n",
       "    <tr style=\"text-align: right;\">\n",
       "      <th></th>\n",
       "      <th>States</th>\n",
       "      <th>Rate</th>\n",
       "      <th>Case Count</th>\n",
       "      <th>Population</th>\n",
       "      <th>Lat</th>\n",
       "      <th>Lon</th>\n",
       "    </tr>\n",
       "  </thead>\n",
       "  <tbody>\n",
       "    <tr>\n",
       "      <th>1</th>\n",
       "      <td>New Mexico</td>\n",
       "      <td>350.4</td>\n",
       "      <td>9202</td>\n",
       "      <td>2092741</td>\n",
       "      <td>34.5003</td>\n",
       "      <td>-106.0008</td>\n",
       "    </tr>\n",
       "    <tr>\n",
       "      <th>2</th>\n",
       "      <td>Arizona</td>\n",
       "      <td>368.1</td>\n",
       "      <td>32863</td>\n",
       "      <td>7158024</td>\n",
       "      <td>34.5003</td>\n",
       "      <td>-111.5010</td>\n",
       "    </tr>\n",
       "    <tr>\n",
       "      <th>3</th>\n",
       "      <td>Colorado</td>\n",
       "      <td>387.2</td>\n",
       "      <td>24550</td>\n",
       "      <td>5691287</td>\n",
       "      <td>-22.8375</td>\n",
       "      <td>-51.9731</td>\n",
       "    </tr>\n",
       "    <tr>\n",
       "      <th>4</th>\n",
       "      <td>California</td>\n",
       "      <td>388.4</td>\n",
       "      <td>171748</td>\n",
       "      <td>39461588</td>\n",
       "      <td>38.3004</td>\n",
       "      <td>-76.5074</td>\n",
       "    </tr>\n",
       "    <tr>\n",
       "      <th>5</th>\n",
       "      <td>Wyoming</td>\n",
       "      <td>394.1</td>\n",
       "      <td>2812</td>\n",
       "      <td>577601</td>\n",
       "      <td>43.0002</td>\n",
       "      <td>-107.5009</td>\n",
       "    </tr>\n",
       "  </tbody>\n",
       "</table>\n",
       "</div>"
      ],
      "text/plain": [
       "       States   Rate Case Count Population      Lat       Lon\n",
       "1  New Mexico  350.4       9202    2092741  34.5003 -106.0008\n",
       "2     Arizona  368.1      32863    7158024  34.5003 -111.5010\n",
       "3    Colorado  387.2      24550    5691287 -22.8375  -51.9731\n",
       "4  California  388.4     171748   39461588  38.3004  -76.5074\n",
       "5     Wyoming  394.1       2812     577601  43.0002 -107.5009"
      ]
     },
     "execution_count": 5,
     "metadata": {},
     "output_type": "execute_result"
    }
   ],
   "source": [
    "combined_df = pd.merge(df, new_df, on = 'States', how = 'outer')\n",
    "combined_df = combined_df [['States','Age-Adjusted Rate','Case Count','Population','Lat','Lon']]\n",
    "combined_df = combined_df.iloc[1:]\n",
    "combined_df ['Age-Adjusted Rate'] = combined_df ['Age-Adjusted Rate'].astype(float)\n",
    "combined_df = combined_df.rename(columns={'Age-Adjusted Rate':'Rate'})\n",
    "combined_df.head()"
   ]
  },
  {
   "cell_type": "code",
   "execution_count": 6,
   "id": "f67a03b9",
   "metadata": {},
   "outputs": [
    {
     "data": {
      "text/plain": [
       "<matplotlib.collections.PathCollection at 0x1e633bc05b0>"
      ]
     },
     "execution_count": 6,
     "metadata": {},
     "output_type": "execute_result"
    },
    {
     "data": {
      "image/png": "[encoded data removed]",
      "text/plain": [
       "<Figure size 432x288 with 1 Axes>"
      ]
     },
     "metadata": {
      "needs_background": "light"
     },
     "output_type": "display_data"
    }
   ],
   "source": [
    "plt.scatter(combined_df['Lat'],combined_df['Rate'])"
   ]
  },
  {
   "cell_type": "code",
   "execution_count": 7,
   "id": "c49ca2c1",
   "metadata": {},
   "outputs": [
    {
     "data": {
      "text/plain": [
       "<AxesSubplot:title={'center':'Rate'}, xlabel='Lat'>"
      ]
     },
     "execution_count": 7,
     "metadata": {},
     "output_type": "execute_result"
    },
    {
     "data": {
      "image/png": "[encoded data removed]",
      "text/plain": [
       "<Figure size 1440x720 with 1 Axes>"
      ]
     },
     "metadata": {
      "needs_background": "light"
     },
     "output_type": "display_data"
    }
   ],
   "source": [
    "combined_df.boxplot('Rate',by='Lat',figsize=(20,10))"
   ]
  },
  {
   "cell_type": "code",
   "execution_count": 8,
   "id": "aa53e5eb",
   "metadata": {},
   "outputs": [],
   "source": [
    "bins = [0,20,30,40,50,60]\n",
    "combined_df['Lat'] = pd.cut(combined_df['Rate'], bins)"
   ]
  },
  {
   "cell_type": "code",
   "execution_count": 9,
   "id": "0ae22bb7",
   "metadata": {},
   "outputs": [
    {
     "data": {
      "text/plain": [
       "nan"
      ]
     },
     "execution_count": 9,
     "metadata": {},
     "output_type": "execute_result"
    }
   ],
   "source": [
    "latitude2 = combined_df[combined_df['Lat'] == 38.3004]\n",
    "latitude2.Rate.mean()"
   ]
  },
  {
   "cell_type": "code",
   "execution_count": 10,
   "id": "3742a288",
   "metadata": {},
   "outputs": [
    {
     "ename": "NameError",
     "evalue": "name 'latitude1' is not defined",
     "output_type": "error",
     "traceback": [
      "\u001b[1;31m---------------------------------------------------------------------------\u001b[0m",
      "\u001b[1;31mNameError\u001b[0m                                 Traceback (most recent call last)",
      "\u001b[1;32m~\\AppData\\Local\\Temp/ipykernel_7844/170201293.py\u001b[0m in \u001b[0;36m<module>\u001b[1;34m\u001b[0m\n\u001b[1;32m----> 1\u001b[1;33m \u001b[0mstats\u001b[0m\u001b[1;33m.\u001b[0m\u001b[0mttest_ind\u001b[0m\u001b[1;33m(\u001b[0m\u001b[0mlatitude1\u001b[0m\u001b[1;33m.\u001b[0m\u001b[0mRate\u001b[0m\u001b[1;33m,\u001b[0m \u001b[0mlatitude2\u001b[0m\u001b[1;33m.\u001b[0m\u001b[0mRate\u001b[0m\u001b[1;33m,\u001b[0m \u001b[0mequal_var\u001b[0m\u001b[1;33m=\u001b[0m\u001b[1;32mFalse\u001b[0m\u001b[1;33m)\u001b[0m\u001b[1;33m\u001b[0m\u001b[1;33m\u001b[0m\u001b[0m\n\u001b[0m",
      "\u001b[1;31mNameError\u001b[0m: name 'latitude1' is not defined"
     ]
    }
   ],
   "source": [
    "stats.ttest_ind(latitude1.Rate, latitude2.Rate, equal_var=False)"
   ]
  },
  {
   "cell_type": "code",
   "execution_count": null,
   "id": "e40635ea",
   "metadata": {
    "scrolled": true
   },
   "outputs": [],
   "source": [
    "plt.scatter(combined_df['Lon'],combined_df['Age-Adjusted Rate'])"
   ]
  },
  {
   "cell_type": "code",
   "execution_count": null,
   "id": "10285167",
   "metadata": {},
   "outputs": [],
   "source": []
  }
 ],
 "metadata": {
  "kernelspec": {
   "display_name": "Python 3 (ipykernel)",
   "language": "python",
   "name": "python3"
  },
  "language_info": {
   "codemirror_mode": {
    "name": "ipython",
    "version": 3
   },
   "file_extension": ".py",
   "mimetype": "text/x-python",
   "name": "python",
   "nbconvert_exporter": "python",
   "pygments_lexer": "ipython3",
   "version": "3.9.7"
  }
 },
 "nbformat": 4,
 "nbformat_minor": 5
}
