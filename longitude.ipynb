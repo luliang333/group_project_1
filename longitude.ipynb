{
 "cells": [
  {
   "cell_type": "code",
   "execution_count": 1,
   "id": "cce47168",
   "metadata": {},
   "outputs": [],
   "source": [
    "# Dependencies\n",
    "import matplotlib.pyplot as plt\n",
    "import pandas as pd\n",
    "import numpy as np\n",
    "import requests\n",
    "import json\n",
    "import pprint\n",
    "import os\n",
    "from scipy.stats import linregress\n",
    "from pprint import pprint\n",
    "\n",
    "# Import API key\n",
    "from api_keys import weather_api_key"
   ]
  },
  {
   "cell_type": "code",
   "execution_count": 2,
   "id": "21b7c8c3",
   "metadata": {},
   "outputs": [
    {
     "data": {
      "text/html": [
       "<div>\n",
       "<style scoped>\n",
       "    .dataframe tbody tr th:only-of-type {\n",
       "        vertical-align: middle;\n",
       "    }\n",
       "\n",
       "    .dataframe tbody tr th {\n",
       "        vertical-align: top;\n",
       "    }\n",
       "\n",
       "    .dataframe thead th {\n",
       "        text-align: right;\n",
       "    }\n",
       "</style>\n",
       "<table border=\"1\" class=\"dataframe\">\n",
       "  <thead>\n",
       "    <tr style=\"text-align: right;\">\n",
       "      <th></th>\n",
       "      <th>States</th>\n",
       "      <th>Cancer Type</th>\n",
       "      <th>Age</th>\n",
       "      <th>Sex</th>\n",
       "      <th>Race</th>\n",
       "      <th>Type</th>\n",
       "      <th>Age-Adjusted Rate</th>\n",
       "      <th>Case Count</th>\n",
       "      <th>Population</th>\n",
       "    </tr>\n",
       "  </thead>\n",
       "  <tbody>\n",
       "    <tr>\n",
       "      <th>0</th>\n",
       "      <td>Nevada</td>\n",
       "      <td>All Types of Cancer</td>\n",
       "      <td>NaN</td>\n",
       "      <td>Male and Female</td>\n",
       "      <td>All Races and Ethnicities</td>\n",
       "      <td>Incidence</td>\n",
       "      <td>Data Suppressed</td>\n",
       "      <td>Data Suppressed</td>\n",
       "      <td>Data Suppressed</td>\n",
       "    </tr>\n",
       "    <tr>\n",
       "      <th>1</th>\n",
       "      <td>New Mexico</td>\n",
       "      <td>All Types of Cancer</td>\n",
       "      <td>NaN</td>\n",
       "      <td>Male and Female</td>\n",
       "      <td>All Races and Ethnicities</td>\n",
       "      <td>Incidence</td>\n",
       "      <td>350.4</td>\n",
       "      <td>9202</td>\n",
       "      <td>2092741</td>\n",
       "    </tr>\n",
       "    <tr>\n",
       "      <th>2</th>\n",
       "      <td>Arizona</td>\n",
       "      <td>All Types of Cancer</td>\n",
       "      <td>NaN</td>\n",
       "      <td>Male and Female</td>\n",
       "      <td>All Races and Ethnicities</td>\n",
       "      <td>Incidence</td>\n",
       "      <td>368.1</td>\n",
       "      <td>32863</td>\n",
       "      <td>7158024</td>\n",
       "    </tr>\n",
       "    <tr>\n",
       "      <th>3</th>\n",
       "      <td>Colorado</td>\n",
       "      <td>All Types of Cancer</td>\n",
       "      <td>NaN</td>\n",
       "      <td>Male and Female</td>\n",
       "      <td>All Races and Ethnicities</td>\n",
       "      <td>Incidence</td>\n",
       "      <td>387.2</td>\n",
       "      <td>24550</td>\n",
       "      <td>5691287</td>\n",
       "    </tr>\n",
       "    <tr>\n",
       "      <th>4</th>\n",
       "      <td>California</td>\n",
       "      <td>All Types of Cancer</td>\n",
       "      <td>NaN</td>\n",
       "      <td>Male and Female</td>\n",
       "      <td>All Races and Ethnicities</td>\n",
       "      <td>Incidence</td>\n",
       "      <td>388.4</td>\n",
       "      <td>171748</td>\n",
       "      <td>39461588</td>\n",
       "    </tr>\n",
       "  </tbody>\n",
       "</table>\n",
       "</div>"
      ],
      "text/plain": [
       "       States          Cancer Type  Age              Sex  \\\n",
       "0      Nevada  All Types of Cancer  NaN  Male and Female   \n",
       "1  New Mexico  All Types of Cancer  NaN  Male and Female   \n",
       "2     Arizona  All Types of Cancer  NaN  Male and Female   \n",
       "3    Colorado  All Types of Cancer  NaN  Male and Female   \n",
       "4  California  All Types of Cancer  NaN  Male and Female   \n",
       "\n",
       "                        Race       Type Age-Adjusted Rate       Case Count  \\\n",
       "0  All Races and Ethnicities  Incidence   Data Suppressed  Data Suppressed   \n",
       "1  All Races and Ethnicities  Incidence             350.4             9202   \n",
       "2  All Races and Ethnicities  Incidence             368.1            32863   \n",
       "3  All Races and Ethnicities  Incidence             387.2            24550   \n",
       "4  All Races and Ethnicities  Incidence             388.4           171748   \n",
       "\n",
       "        Population  \n",
       "0  Data Suppressed  \n",
       "1          2092741  \n",
       "2          7158024  \n",
       "3          5691287  \n",
       "4         39461588  "
      ]
     },
     "execution_count": 2,
     "metadata": {},
     "output_type": "execute_result"
    }
   ],
   "source": [
    "filepath = os.path.join('Resources','each_state_new_cancer_rate.csv')\n",
    "df = pd.read_csv(filepath)\n",
    "df = df.rename(columns = {'Unnamed: 0':'States'})\n",
    "df.head()"
   ]
  },
  {
   "cell_type": "code",
   "execution_count": 11,
   "id": "600411ac",
   "metadata": {},
   "outputs": [
    {
     "data": {
      "text/html": [
       "<div>\n",
       "<style scoped>\n",
       "    .dataframe tbody tr th:only-of-type {\n",
       "        vertical-align: middle;\n",
       "    }\n",
       "\n",
       "    .dataframe tbody tr th {\n",
       "        vertical-align: top;\n",
       "    }\n",
       "\n",
       "    .dataframe thead th {\n",
       "        text-align: right;\n",
       "    }\n",
       "</style>\n",
       "<table border=\"1\" class=\"dataframe\">\n",
       "  <thead>\n",
       "    <tr style=\"text-align: right;\">\n",
       "      <th></th>\n",
       "      <th>Lat</th>\n",
       "      <th>Lon</th>\n",
       "      <th>States</th>\n",
       "      <th>Timezone</th>\n",
       "    </tr>\n",
       "  </thead>\n",
       "  <tbody>\n",
       "    <tr>\n",
       "      <th>0</th>\n",
       "      <td>39.2502</td>\n",
       "      <td>-116.7512</td>\n",
       "      <td>Nevada</td>\n",
       "      <td>-25200</td>\n",
       "    </tr>\n",
       "    <tr>\n",
       "      <th>1</th>\n",
       "      <td>34.5003</td>\n",
       "      <td>-106.0008</td>\n",
       "      <td>New Mexico</td>\n",
       "      <td>-21600</td>\n",
       "    </tr>\n",
       "    <tr>\n",
       "      <th>2</th>\n",
       "      <td>34.5003</td>\n",
       "      <td>-111.5010</td>\n",
       "      <td>Arizona</td>\n",
       "      <td>-25200</td>\n",
       "    </tr>\n",
       "    <tr>\n",
       "      <th>3</th>\n",
       "      <td>-22.8375</td>\n",
       "      <td>-51.9731</td>\n",
       "      <td>Colorado</td>\n",
       "      <td>-10800</td>\n",
       "    </tr>\n",
       "    <tr>\n",
       "      <th>4</th>\n",
       "      <td>38.3004</td>\n",
       "      <td>-76.5074</td>\n",
       "      <td>California</td>\n",
       "      <td>-14400</td>\n",
       "    </tr>\n",
       "  </tbody>\n",
       "</table>\n",
       "</div>"
      ],
      "text/plain": [
       "       Lat       Lon      States  Timezone\n",
       "0  39.2502 -116.7512      Nevada    -25200\n",
       "1  34.5003 -106.0008  New Mexico    -21600\n",
       "2  34.5003 -111.5010     Arizona    -25200\n",
       "3 -22.8375  -51.9731    Colorado    -10800\n",
       "4  38.3004  -76.5074  California    -14400"
      ]
     },
     "execution_count": 11,
     "metadata": {},
     "output_type": "execute_result"
    }
   ],
   "source": [
    "url = f'http://api.openweathermap.org/data/2.5/weather?appid={weather_api_key}&q='\n",
    "\n",
    "states = df['States']\n",
    "lat = []\n",
    "lng = []\n",
    "state_name = []\n",
    "timezone = []\n",
    "\n",
    "for state in states:\n",
    "    query_url = url + state\n",
    "    response = requests.get(query_url).json()\n",
    "    state_name.append(response['name'])\n",
    "    timezone.append(response['timezone'])\n",
    "    lat.append(response['coord']['lat'])\n",
    "    lng.append(response['coord']['lon'])\n",
    "new_df = pd.DataFrame({'Lat':lat,'Lon':lng,'States':state_name, 'Timezone':timezone})\n",
    "new_df.head()"
   ]
  },
  {
   "cell_type": "code",
   "execution_count": 12,
   "id": "77048677",
   "metadata": {},
   "outputs": [
    {
     "name": "stdout",
     "output_type": "stream",
     "text": [
      "{'base': 'stations',\n",
      " 'clouds': {'all': 66},\n",
      " 'cod': 200,\n",
      " 'coord': {'lat': -30.7667, 'lon': 151.45},\n",
      " 'dt': 1632592906,\n",
      " 'id': 2161599,\n",
      " 'main': {'feels_like': 276.93,\n",
      "          'grnd_level': 898,\n",
      "          'humidity': 99,\n",
      "          'pressure': 1020,\n",
      "          'sea_level': 1020,\n",
      "          'temp': 279.39,\n",
      "          'temp_max': 279.39,\n",
      "          'temp_min': 275.91},\n",
      " 'name': 'Kentucky',\n",
      " 'sys': {'country': 'AU',\n",
      "         'id': 2007453,\n",
      "         'sunrise': 1632598741,\n",
      "         'sunset': 1632642735,\n",
      "         'type': 2},\n",
      " 'timezone': 36000,\n",
      " 'visibility': 10000,\n",
      " 'weather': [{'description': 'broken clouds',\n",
      "              'icon': '04n',\n",
      "              'id': 803,\n",
      "              'main': 'Clouds'}],\n",
      " 'wind': {'deg': 97, 'gust': 6.6, 'speed': 3.33}}\n"
     ]
    }
   ],
   "source": [
    "pprint(response)"
   ]
  },
  {
   "cell_type": "code",
   "execution_count": 13,
   "id": "6367a8f3",
   "metadata": {},
   "outputs": [
    {
     "data": {
      "text/html": [
       "<div>\n",
       "<style scoped>\n",
       "    .dataframe tbody tr th:only-of-type {\n",
       "        vertical-align: middle;\n",
       "    }\n",
       "\n",
       "    .dataframe tbody tr th {\n",
       "        vertical-align: top;\n",
       "    }\n",
       "\n",
       "    .dataframe thead th {\n",
       "        text-align: right;\n",
       "    }\n",
       "</style>\n",
       "<table border=\"1\" class=\"dataframe\">\n",
       "  <thead>\n",
       "    <tr style=\"text-align: right;\">\n",
       "      <th></th>\n",
       "      <th>Lat</th>\n",
       "      <th>Lon</th>\n",
       "      <th>States</th>\n",
       "      <th>Timezone</th>\n",
       "    </tr>\n",
       "  </thead>\n",
       "  <tbody>\n",
       "    <tr>\n",
       "      <th>0</th>\n",
       "      <td>39.2502</td>\n",
       "      <td>-116.7512</td>\n",
       "      <td>Nevada</td>\n",
       "      <td>-25200</td>\n",
       "    </tr>\n",
       "    <tr>\n",
       "      <th>1</th>\n",
       "      <td>34.5003</td>\n",
       "      <td>-106.0008</td>\n",
       "      <td>New Mexico</td>\n",
       "      <td>-21600</td>\n",
       "    </tr>\n",
       "    <tr>\n",
       "      <th>2</th>\n",
       "      <td>34.5003</td>\n",
       "      <td>-111.5010</td>\n",
       "      <td>Arizona</td>\n",
       "      <td>-25200</td>\n",
       "    </tr>\n",
       "    <tr>\n",
       "      <th>3</th>\n",
       "      <td>-22.8375</td>\n",
       "      <td>-51.9731</td>\n",
       "      <td>Colorado</td>\n",
       "      <td>-10800</td>\n",
       "    </tr>\n",
       "    <tr>\n",
       "      <th>4</th>\n",
       "      <td>38.3004</td>\n",
       "      <td>-76.5074</td>\n",
       "      <td>California</td>\n",
       "      <td>-14400</td>\n",
       "    </tr>\n",
       "  </tbody>\n",
       "</table>\n",
       "</div>"
      ],
      "text/plain": [
       "       Lat       Lon      States  Timezone\n",
       "0  39.2502 -116.7512      Nevada    -25200\n",
       "1  34.5003 -106.0008  New Mexico    -21600\n",
       "2  34.5003 -111.5010     Arizona    -25200\n",
       "3 -22.8375  -51.9731    Colorado    -10800\n",
       "4  38.3004  -76.5074  California    -14400"
      ]
     },
     "execution_count": 13,
     "metadata": {},
     "output_type": "execute_result"
    }
   ],
   "source": [
    "new_df = new_df.replace('State of Wyoming','Wyoming') \n",
    "new_df = new_df.replace('State of Maine','Maine')\n",
    "new_df.head()"
   ]
  },
  {
   "cell_type": "code",
   "execution_count": 78,
   "id": "ae8108bc",
   "metadata": {},
   "outputs": [
    {
     "data": {
      "text/html": [
       "<div>\n",
       "<style scoped>\n",
       "    .dataframe tbody tr th:only-of-type {\n",
       "        vertical-align: middle;\n",
       "    }\n",
       "\n",
       "    .dataframe tbody tr th {\n",
       "        vertical-align: top;\n",
       "    }\n",
       "\n",
       "    .dataframe thead th {\n",
       "        text-align: right;\n",
       "    }\n",
       "</style>\n",
       "<table border=\"1\" class=\"dataframe\">\n",
       "  <thead>\n",
       "    <tr style=\"text-align: right;\">\n",
       "      <th></th>\n",
       "      <th>States</th>\n",
       "      <th>Rate</th>\n",
       "      <th>Cases</th>\n",
       "      <th>Population</th>\n",
       "      <th>Lat</th>\n",
       "      <th>Lon</th>\n",
       "    </tr>\n",
       "  </thead>\n",
       "  <tbody>\n",
       "    <tr>\n",
       "      <th>1</th>\n",
       "      <td>New Mexico</td>\n",
       "      <td>350.4</td>\n",
       "      <td>9202</td>\n",
       "      <td>2092741</td>\n",
       "      <td>34.5003</td>\n",
       "      <td>-106.0008</td>\n",
       "    </tr>\n",
       "    <tr>\n",
       "      <th>2</th>\n",
       "      <td>Arizona</td>\n",
       "      <td>368.1</td>\n",
       "      <td>32863</td>\n",
       "      <td>7158024</td>\n",
       "      <td>34.5003</td>\n",
       "      <td>-111.5010</td>\n",
       "    </tr>\n",
       "    <tr>\n",
       "      <th>3</th>\n",
       "      <td>Colorado</td>\n",
       "      <td>387.2</td>\n",
       "      <td>24550</td>\n",
       "      <td>5691287</td>\n",
       "      <td>-22.8375</td>\n",
       "      <td>-51.9731</td>\n",
       "    </tr>\n",
       "    <tr>\n",
       "      <th>4</th>\n",
       "      <td>California</td>\n",
       "      <td>388.4</td>\n",
       "      <td>171748</td>\n",
       "      <td>39461588</td>\n",
       "      <td>38.3004</td>\n",
       "      <td>-76.5074</td>\n",
       "    </tr>\n",
       "    <tr>\n",
       "      <th>5</th>\n",
       "      <td>Wyoming</td>\n",
       "      <td>394.1</td>\n",
       "      <td>2812</td>\n",
       "      <td>577601</td>\n",
       "      <td>43.0002</td>\n",
       "      <td>-107.5009</td>\n",
       "    </tr>\n",
       "  </tbody>\n",
       "</table>\n",
       "</div>"
      ],
      "text/plain": [
       "       States   Rate   Cases Population      Lat       Lon\n",
       "1  New Mexico  350.4    9202    2092741  34.5003 -106.0008\n",
       "2     Arizona  368.1   32863    7158024  34.5003 -111.5010\n",
       "3    Colorado  387.2   24550    5691287 -22.8375  -51.9731\n",
       "4  California  388.4  171748   39461588  38.3004  -76.5074\n",
       "5     Wyoming  394.1    2812     577601  43.0002 -107.5009"
      ]
     },
     "execution_count": 78,
     "metadata": {},
     "output_type": "execute_result"
    }
   ],
   "source": [
    "combined_df = pd.merge(df, new_df, on = 'States', how = 'outer')\n",
    "combined_df = combined_df [['States','Age-Adjusted Rate','Case Count','Population','Lat','Lon']]\n",
    "combined_df = combined_df.iloc[1:]\n",
    "combined_df ['Age-Adjusted Rate'] = combined_df ['Age-Adjusted Rate'].astype(float)\n",
    "combined_df ['Lat'] = combined_df ['Lat'].astype(float)\n",
    "combined_df ['Lon'] = combined_df ['Lon'].astype(float)\n",
    "combined_df = combined_df.rename(columns={'Age-Adjusted Rate':'Rate','Case Count':'Cases'})\n",
    "combined_df.head()"
   ]
  },
  {
   "cell_type": "code",
   "execution_count": 32,
   "id": "8a267968",
   "metadata": {},
   "outputs": [
    {
     "data": {
      "text/html": [
       "<div>\n",
       "<style scoped>\n",
       "    .dataframe tbody tr th:only-of-type {\n",
       "        vertical-align: middle;\n",
       "    }\n",
       "\n",
       "    .dataframe tbody tr th {\n",
       "        vertical-align: top;\n",
       "    }\n",
       "\n",
       "    .dataframe thead th {\n",
       "        text-align: right;\n",
       "    }\n",
       "</style>\n",
       "<table border=\"1\" class=\"dataframe\">\n",
       "  <thead>\n",
       "    <tr style=\"text-align: right;\">\n",
       "      <th></th>\n",
       "      <th>States</th>\n",
       "      <th>Rate</th>\n",
       "      <th>Cases</th>\n",
       "      <th>Population</th>\n",
       "      <th>Lat</th>\n",
       "      <th>Lon</th>\n",
       "      <th>Timezone</th>\n",
       "    </tr>\n",
       "  </thead>\n",
       "  <tbody>\n",
       "    <tr>\n",
       "      <th>0</th>\n",
       "      <td>New Mexico</td>\n",
       "      <td>350.4</td>\n",
       "      <td>9202</td>\n",
       "      <td>2092741</td>\n",
       "      <td>34.5003</td>\n",
       "      <td>-106.0008</td>\n",
       "      <td>Mountain Time</td>\n",
       "    </tr>\n",
       "    <tr>\n",
       "      <th>1</th>\n",
       "      <td>Arizona</td>\n",
       "      <td>368.1</td>\n",
       "      <td>32863</td>\n",
       "      <td>7158024</td>\n",
       "      <td>34.5003</td>\n",
       "      <td>-111.5010</td>\n",
       "      <td>Mountain Time</td>\n",
       "    </tr>\n",
       "    <tr>\n",
       "      <th>2</th>\n",
       "      <td>Colorado</td>\n",
       "      <td>387.2</td>\n",
       "      <td>24550</td>\n",
       "      <td>5691287</td>\n",
       "      <td>-22.8375</td>\n",
       "      <td>-51.9731</td>\n",
       "      <td>Mountain Time</td>\n",
       "    </tr>\n",
       "    <tr>\n",
       "      <th>3</th>\n",
       "      <td>California</td>\n",
       "      <td>388.4</td>\n",
       "      <td>171748</td>\n",
       "      <td>39461588</td>\n",
       "      <td>38.3004</td>\n",
       "      <td>-76.5074</td>\n",
       "      <td>Pacific Time</td>\n",
       "    </tr>\n",
       "    <tr>\n",
       "      <th>4</th>\n",
       "      <td>Wyoming</td>\n",
       "      <td>394.1</td>\n",
       "      <td>2812</td>\n",
       "      <td>577601</td>\n",
       "      <td>43.0002</td>\n",
       "      <td>-107.5009</td>\n",
       "      <td>Mountain Time</td>\n",
       "    </tr>\n",
       "  </tbody>\n",
       "</table>\n",
       "</div>"
      ],
      "text/plain": [
       "       States   Rate   Cases Population      Lat       Lon        Timezone\n",
       "0  New Mexico  350.4    9202    2092741  34.5003 -106.0008  Mountain Time \n",
       "1     Arizona  368.1   32863    7158024  34.5003 -111.5010  Mountain Time \n",
       "2    Colorado  387.2   24550    5691287 -22.8375  -51.9731  Mountain Time \n",
       "3  California  388.4  171748   39461588  38.3004  -76.5074   Pacific Time \n",
       "4     Wyoming  394.1    2812     577601  43.0002 -107.5009  Mountain Time "
      ]
     },
     "execution_count": 32,
     "metadata": {},
     "output_type": "execute_result"
    }
   ],
   "source": [
    "zone_path = os.path.join('Resources','zones.csv')\n",
    "zone_df = pd.read_csv(zone_path)\n",
    "zone_df.head()\n",
    "\n",
    "lng_df = pd.merge(combined_df, zone_df, on = 'States', how = 'outer')\n",
    "lng_df.head()"
   ]
  },
  {
   "cell_type": "code",
   "execution_count": 77,
   "id": "694f8cc4",
   "metadata": {},
   "outputs": [
    {
     "data": {
      "image/png": "[encoded data removed]",
      "text/plain": [
       "<Figure size 720x576 with 1 Axes>"
      ]
     },
     "metadata": {
      "needs_background": "light"
     },
     "output_type": "display_data"
    }
   ],
   "source": [
    "plt.figure(figsize=(10,8))\n",
    "plt.bar(lng_df['Timezone'], lng_df['Rate'], align='center')\n",
    "plt.show()"
   ]
  },
  {
   "cell_type": "code",
   "execution_count": 76,
   "id": "ec5e6b3a",
   "metadata": {},
   "outputs": [
    {
     "data": {
      "text/plain": [
       "<matplotlib.collections.PathCollection at 0x7feeeb378160>"
      ]
     },
     "execution_count": 76,
     "metadata": {},
     "output_type": "execute_result"
    },
    {
     "data": {
      "image/png": "[encoded data removed]",
      "text/plain": [
       "<Figure size 432x288 with 1 Axes>"
      ]
     },
     "metadata": {
      "needs_background": "light"
     },
     "output_type": "display_data"
    }
   ],
   "source": [
    "plt.scatter(lng_df['Lon'], lng_df['Rate'])"
   ]
  },
  {
   "cell_type": "code",
   "execution_count": 73,
   "id": "14d9c59c",
   "metadata": {},
   "outputs": [
    {
     "data": {
      "text/plain": [
       "<AxesSubplot:title={'center':'Rate'}, xlabel='Timezone'>"
      ]
     },
     "execution_count": 73,
     "metadata": {},
     "output_type": "execute_result"
    },
    {
     "data": {
      "image/png": "[encoded data removed]",
      "text/plain": [
       "<Figure size 720x576 with 1 Axes>"
      ]
     },
     "metadata": {
      "needs_background": "light"
     },
     "output_type": "display_data"
    }
   ],
   "source": [
    "lng_df.boxplot('Rate',by='Timezone', figsize=(10,8))"
   ]
  },
  {
   "cell_type": "code",
   "execution_count": null,
   "id": "a158c6fa",
   "metadata": {},
   "outputs": [],
   "source": []
  }
 ],
 "metadata": {
  "kernelspec": {
   "display_name": "Python 3",
   "language": "python",
   "name": "python3"
  },
  "language_info": {
   "codemirror_mode": {
    "name": "ipython",
    "version": 3
   },
   "file_extension": ".py",
   "mimetype": "text/x-python",
   "name": "python",
   "nbconvert_exporter": "python",
   "pygments_lexer": "ipython3",
   "version": "3.8.8"
  }
 },
 "nbformat": 4,
 "nbformat_minor": 5
}
